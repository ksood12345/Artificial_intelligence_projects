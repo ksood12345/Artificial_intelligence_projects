{
 "cells": [
  {
   "cell_type": "code",
   "execution_count": 1,
   "metadata": {},
   "outputs": [
    {
     "name": "stdout",
     "output_type": "stream",
     "text": [
      "Requirement already satisfied: pytholog in c:\\users\\karan\\anaconda3\\lib\\site-packages (2.4.1)\n",
      "Requirement already satisfied: more-itertools in c:\\users\\karan\\anaconda3\\lib\\site-packages (from pytholog) (7.2.0)\n"
     ]
    }
   ],
   "source": [
    "! pip install pytholog"
   ]
  },
  {
   "cell_type": "code",
   "execution_count": 6,
   "metadata": {},
   "outputs": [
    {
     "name": "stdout",
     "output_type": "stream",
     "text": [
      "The father of homer is:[{'X': 'abe'}]\n",
      "The mother of homer is:[{'X': 'mona'}]\n",
      "The parents of bart are:[{'X': 'homer'}, {'X': 'marge'}]\n",
      "The brother of homer is:[{'X': 'herb'}, {'X': 'herb'}]\n",
      "The sister of lisa is:[{'X': 'maggie'}, {'X': 'maggie'}]\n",
      "The aunts of lisa are:[{'X': 'marge'}, {'X': 'marge'}, {'X': 'patty'}, {'X': 'patty'}, {'X': 'selma'}, {'X': 'selma'}]\n",
      "The uncles of lisa are:[{'X': 'herb'}, {'X': 'herb'}, {'X': 'homer'}, {'X': 'homer'}]\n",
      "The grandmother of lisa is:[{'X': 'jacqueline'}, {'X': 'mona'}]\n",
      "The grandfather of lisa is:[{'X': 'abe'}, {'X': 'clancy'}]\n",
      "The grandparents of lisa are:[{'X': 'abe'}, {'X': 'clancy'}, {'X': 'jacqueline'}, {'X': 'mona'}]\n",
      "Lisa is niece to following people: [{'X': 'herb'}, {'X': 'herb'}, {'X': 'homer'}, {'X': 'homer'}, {'X': 'marge'}, {'X': 'marge'}, {'X': 'patty'}, {'X': 'patty'}, {'X': 'selma'}, {'X': 'selma'}]\n"
     ]
    }
   ],
   "source": [
    "import pytholog as pl\n",
    "\n",
    "\n",
    "kb = pl.KnowledgeBase(\"family_tree\")\n",
    "kb(['male(abe)', 'male(clancy)', 'female(mona)', 'female(jacqueline)',\n",
    "    'male(herb)', 'male(homer)', 'female(marge)', 'female(patty)', 'female(selma)',\n",
    "    'male(bart)', 'female(lisa)', 'female(maggie)', 'male(ling)',\n",
    "    'father(abe,herb)', 'father(abe,homer)', 'mother(mona,herb)', 'mother(mona,homer)',\n",
    "    'father(clancy,marge)', 'father(clancy,patty)', 'father(clancy,selma)',\n",
    "    'mother(jacqueline,marge)', 'mother(jacqueline,patty)', 'mother(jacqueline,selma)',\n",
    "    'father(homer,bart)', 'father(homer,lisa)', 'father(homer,maggie)',\n",
    "    'mother(marge,bart)', 'mother(marge,lisa)', 'mother(marge,maggie)', 'mother(selma,ling)',\n",
    "    'parent(X,Y):- father(X,Y)',\n",
    "    'parent(X,Y):- mother(X,Y)',\n",
    "    'brother(X,Y):- male(X), parent(Z,X), parent(Z,Y), neq(X,Y)',\n",
    "    'sister(X,Y):- female(X), parent(Z,X), parent(Z,Y), neq(X,Y)',\n",
    "    'grandfather(X,Y):- male(X), parent(X,Z), parent(Z,Y)',\n",
    "    'grandmother(X,Y):- female(X), parent(X,Z), parent(Z,Y)',\n",
    "    'grandparent(X,Y):- grandfather(X,Y)',\n",
    "    'grandparent(X,Y):- grandmother(X,Y)',\n",
    "    'uncle(X,Y):- male(X), father(Z,Y), brother(Z,X)',\n",
    "    'aunt(X,Y):- female(X), parent(Z,Y), sister(Z,X)',\n",
    "    'nephew(X,Y):- uncle(Y,X)', 'nephew(X,Y):- aunt(Y,X)'])\n",
    "\n",
    "# Querying the database\n",
    "# The following query helps to find father of 'homer'\n",
    "print('The father of homer is:'+ str(kb.query(pl.Expr(\"father(X,homer)\"))))\n",
    "\n",
    "# The following query helps to find mother of 'lisa'\n",
    "print('The mother of homer is:'+ str(kb.query(pl.Expr(\"mother(X,homer)\"))))\n",
    "\n",
    "# The following query finds both father and mother of 'bart' who happen to be 'homer' and 'marge' respectively.\n",
    "print('The parents of bart are:'+ str(kb.query(pl.Expr(\"parent(X,bart)\"))))\n",
    "\n",
    "# The following query helps to find brother of 'homer'\n",
    "print('The brother of homer is:'+ str(kb.query(pl.Expr(\"brother(X,homer)\"))))\n",
    "\n",
    "# The following query helps to find sister of 'lisa'\n",
    "print('The sister of lisa is:'+ str(kb.query(pl.Expr(\"sister(X,lisa)\"))))\n",
    "\n",
    "# The following query helps to find aunt of 'lisa'\n",
    "print('The aunts of lisa are:'+ str(kb.query(pl.Expr(\"aunt(X,lisa)\"))))\n",
    "\n",
    "# The following query helps to find uncle of 'lisa'\n",
    "print('The uncles of lisa are:'+ str(kb.query(pl.Expr(\"uncle(X,lisa)\"))))\n",
    "\n",
    "# The following query helps to find grandmother of 'lisa'\n",
    "print('The grandmother of lisa is:'+ str(kb.query(pl.Expr(\"grandmother(X,lisa)\"))))\n",
    "\n",
    "# The following query helps to find grandfather of 'ling'\n",
    "print('The grandfather of lisa is:'+ str(kb.query(pl.Expr(\"grandfather(X,lisa)\"))))\n",
    "\n",
    "# The following query helps to find grandparent of 'lisa'. The query returns both maternal and paternal grand parents.\n",
    "print('The grandparents of lisa are:'+ str(kb.query(pl.Expr(\"grandparent(X,lisa)\"))))\n",
    "    \n",
    "# The following code helps us understand who is 'lisa' nicece to.\n",
    "print('Lisa is niece to following people: ' + str(kb.query(pl.Expr(\"nephew(lisa,X)\"))))"
   ]
  },
  {
   "cell_type": "code",
   "execution_count": null,
   "metadata": {},
   "outputs": [],
   "source": []
  }
 ],
 "metadata": {
  "kernelspec": {
   "display_name": "Python 3",
   "language": "python",
   "name": "python3"
  },
  "language_info": {
   "codemirror_mode": {
    "name": "ipython",
    "version": 3
   },
   "file_extension": ".py",
   "mimetype": "text/x-python",
   "name": "python",
   "nbconvert_exporter": "python",
   "pygments_lexer": "ipython3",
   "version": "3.7.4"
  }
 },
 "nbformat": 4,
 "nbformat_minor": 2
}
