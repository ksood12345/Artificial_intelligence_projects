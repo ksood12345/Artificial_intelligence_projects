{
 "cells": [
  {
   "cell_type": "markdown",
   "id": "equipped-tucson",
   "metadata": {},
   "source": [
    "### DOG AGILITY COMPETITION USING PYTHON CSP\n",
    "\n",
    "Here, we try to solve dog agility competition puzzle as a constraint satisfaction problem using Python CSP. We define a set of constraints on the basis of clues given to solve the puzzle and then use those constraints to arrive at a solution. </br>\n",
    "The solution helps us to identify the name of the dog along with their breed, their favorite sport and the rank that they achieved in the agility competition."
   ]
  },
  {
   "cell_type": "code",
   "execution_count": 2,
   "id": "single-benchmark",
   "metadata": {},
   "outputs": [
    {
     "name": "stdout",
     "output_type": "stream",
     "text": [
      "Dog with name Cheetah belonging to breed Colie likes to play Tunnel and was ranked 1\n",
      "Dog with name Beany belonging to breed Terrier likes to play Tire and was ranked 2\n",
      "Dog with name Thor belonging to breed Shepherd likes to play Poles and was ranked 3\n",
      "Dog with name Suzie belonging to breed Boxer likes to play Plank and was ranked 4\n"
     ]
    }
   ],
   "source": [
    "from constraint import *\n",
    "\n",
    "\n",
    "# Defining the problem\n",
    "problem = Problem()\n",
    "breed = ['Boxer', 'Colie', 'Shepherd','Terrier']\n",
    "favorite_game = ['Plank', 'Poles', 'Tire', 'Tunnel']\n",
    "dog_names = ['Beany', 'Cheetah', 'Thor', 'Suzie']\n",
    "criteria = breed + favorite_game + dog_names\n",
    "problem.addVariables(criteria, [1,2,3,4])\n",
    "\n",
    "# Defining constraint for the same initial letter of name and breed for the winning dog\n",
    "def same_name_constraint(cheetah, beany, suzie, thor, terrier, boxer, colie, shepherd):\n",
    "    if(cheetah == colie == 1 and beany != boxer and thor != terrier and suzie != shepherd):\n",
    "        return True\n",
    "    elif(beany == boxer == 1 and cheetah != colie and thor != terrier and suzie != shepherd):\n",
    "        return True\n",
    "    elif(thor == terrier == 1 and cheetah != colie and beany != boxer and suzie != shepherd):\n",
    "        return True\n",
    "    elif(suzie == shepherd == 1 and cheetah != colie and beany != boxer and thor != terrier):\n",
    "        return True\n",
    "\n",
    "\n",
    "# Defining the domain of the variables\n",
    "problem.addConstraint(AllDifferentConstraint(), breed)\n",
    "problem.addConstraint(AllDifferentConstraint(), favorite_game)\n",
    "problem.addConstraint(AllDifferentConstraint(), dog_names)\n",
    "\n",
    "# Defining the constraints\n",
    "problem.addConstraint(same_name_constraint, ['Cheetah', 'Beany', 'Suzie', 'Thor', 'Terrier', 'Boxer', 'Colie', 'Shepherd'])\n",
    "problem.addConstraint(lambda boxer, shepherd: boxer - shepherd == 1, ['Boxer', 'Shepherd'])\n",
    "problem.addConstraint(lambda boxer, tunnel, tire: boxer != tunnel and boxer != tire, ['Boxer', 'Tunnel', 'Tire'])\n",
    "problem.addConstraint(lambda shepherd, tunnel, tire: shepherd != tunnel and shepherd != tire, ['Shepherd', 'Tunnel', 'Tire'])\n",
    "problem.addConstraint(InSetConstraint([3,1]), ['Poles', 'Cheetah'])\n",
    "problem.addConstraint(NotInSetConstraint([2]), ['Thor'])\n",
    "problem.addConstraint(lambda thor, plank: thor != plank, ['Thor', 'Plank'])\n",
    "problem.addConstraint(lambda cheetah, tunnel: cheetah == tunnel or cheetah == 4, ['Cheetah', 'Tunnel'])\n",
    "problem.addConstraint(lambda plank, poles: plank - poles == 1, ['Plank', 'Poles'])\n",
    "problem.addConstraint(lambda suzie, shepherd: suzie != shepherd, ['Suzie', 'Shepherd'])\n",
    "problem.addConstraint(lambda beany, tunnel: beany != tunnel, ['Beany', 'Tunnel'])\n",
    "\n",
    "# Finding the solutions\n",
    "solution = problem.getSolutions()\n",
    "\n",
    "# Extracting the dictionary that we get as solution from the above statement\n",
    "solution = solution[0]\n",
    "\n",
    "# Sorting the dictionary according to the value\n",
    "sorted_solution = sorted(solution.items(), key = lambda x: x[1])\n",
    "\n",
    "# Printing the dog name, breed, ranking and sport\n",
    "for i in range(0, len(sorted_solution)-2, 3):\n",
    "    dog_specs = sorted_solution[i:i+3]\n",
    "    rank = dog_specs[0][1]\n",
    "    for item in dog_specs:\n",
    "        if item[0] in dog_names:\n",
    "            name = item[0]\n",
    "        elif item[0] in breed:\n",
    "            dog_breed = item[0]\n",
    "        elif item[0] in favorite_game:\n",
    "            sport = item[0]\n",
    "    print('Dog with name {} belonging to breed {} likes to play {} and was ranked {}'.format(name, dog_breed, sport, rank))"
   ]
  },
  {
   "cell_type": "code",
   "execution_count": null,
   "id": "biological-question",
   "metadata": {},
   "outputs": [],
   "source": []
  }
 ],
 "metadata": {
  "kernelspec": {
   "display_name": "AI_ex2",
   "language": "python",
   "name": "ai_ex2"
  },
  "language_info": {
   "codemirror_mode": {
    "name": "ipython",
    "version": 3
   },
   "file_extension": ".py",
   "mimetype": "text/x-python",
   "name": "python",
   "nbconvert_exporter": "python",
   "pygments_lexer": "ipython3",
   "version": "3.7.9"
  }
 },
 "nbformat": 4,
 "nbformat_minor": 5
}
